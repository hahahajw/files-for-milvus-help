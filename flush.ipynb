{
 "cells": [
  {
   "cell_type": "markdown",
   "id": "28cd8c2e",
   "metadata": {},
   "source": [
    "### 测试手动调用 flush() \n",
    "\n",
    "flush()调用 API:\n",
    "\n",
    "1. https://milvus.io/api-reference/pymilvus/v2.5.x/ORM/Collection/flush.md\n",
    "\n",
    "2. https://docs.zilliz.com.cn/reference/python/python/Management-flush"
   ]
  },
  {
   "cell_type": "code",
   "execution_count": null,
   "id": "b9c55117",
   "metadata": {},
   "outputs": [],
   "source": [
    "# 定义嵌入模型\n",
    "from langchain_openai import OpenAIEmbeddings\n",
    "from dotenv import load_dotenv\n",
    "import os\n",
    "\n",
    "load_dotenv()\n",
    "\n",
    "embed_model = OpenAIEmbeddings(\n",
    "    api_key=os.getenv(\"BL_API_KEY\"),\n",
    "    base_url=os.getenv(\"BL_BASE_URL\"),\n",
    "    model=\"text-embedding-v3\",\n",
    "    dimensions=1024,\n",
    "    check_embedding_ctx_length=False\n",
    ")"
   ]
  },
  {
   "cell_type": "code",
   "execution_count": null,
   "id": "6910a26d",
   "metadata": {},
   "outputs": [],
   "source": [
    "# 加载向量数据库\n",
    "from langchain_milvus import Milvus, BM25BuiltInFunction\n",
    "\n",
    "dense_vs = Milvus(\n",
    "    collection_name='dense_hotpotqa_500',\n",
    "    embedding_function=embed_model\n",
    ")\n",
    "\n",
    "hybrid_vs = Milvus(\n",
    "    collection_name='hybrid_hotpotqa_500',\n",
    "    embedding_function=embed_model,\n",
    "    builtin_function=BM25BuiltInFunction(output_field_names='sparse'),\n",
    "    vector_field=['dense', 'sparse']\n",
    ")"
   ]
  },
  {
   "cell_type": "code",
   "execution_count": null,
   "id": "390dd7e1",
   "metadata": {},
   "outputs": [],
   "source": [
    "dense_vs.client.flush(collection_name='dense_hotpotqa_500')\n",
    "hybrid_vs.client.flush(collection_name='hybrid_hotpotqa_500')"
   ]
  },
  {
   "cell_type": "code",
   "execution_count": null,
   "id": "0f16cef0",
   "metadata": {},
   "outputs": [
    {
     "name": "stderr",
     "output_type": "stream",
     "text": [
      "\u001b[32m2025-07-25 09:36:59.425\u001b[0m | \u001b[1mINFO    \u001b[0m | \u001b[36m__main__\u001b[0m:\u001b[36m<module>\u001b[0m:\u001b[36m13\u001b[0m - \u001b[1m加载了 500 个问题\u001b[0m\n"
     ]
    },
    {
     "name": "stdout",
     "output_type": "stream",
     "text": [
      "{'_id': '5a8ba761554299240d9c2066',\n",
      " 'answer': 'nearly 80 years',\n",
      " 'context': [['Bus Stop (TV series)',\n",
      "              ['Bus Stop is a 26-episode American drama which aired on ABC '\n",
      "               'from October 1, 1961, until March 25, 1962, starring Marilyn '\n",
      "               'Maxwell as Grace Sherwood, the owner of a bus station and '\n",
      "               'diner in the fictitious town of Sunrise in the Colorado '\n",
      "               'Rockies.',\n",
      "               ' The program was adapted from William Inge\\'s play, \"Bus '\n",
      "               'Stop\", and Inge was a script consultant for the series, which '\n",
      "               'followed the lives of travelers passing through the bus '\n",
      "               'station and the diner.',\n",
      "               \" Maxwell's co-stars were Richard Anderson as District Attorney \"\n",
      "               'Glenn Wagner, Rhodes Reason as Sheriff Will Mayberry, Joan '\n",
      "               'Freeman as waitress Elma Gahrigner, Bernard Kates as Ralph the '\n",
      "               'coroner, and Buddy Ebsen as Virge Blessing.']],\n",
      "             ['The Mickey Rooney Show',\n",
      "              ['The Mickey Rooney Show (also known as Hey, Mulligan) is an '\n",
      "               'American sitcom that aired from 1954 to 1955 on NBC.',\n",
      "               ' The series stars Mickey Rooney (in his first television role) '\n",
      "               'who was particularly remembered for his starring role in '\n",
      "               'numerous Andy Hardy films made between 1937 and 1958, which '\n",
      "               'overlapped with \"Hey Mulligan\".']],\n",
      "             ['Bob Hope',\n",
      "              ['Bob Hope, KBE, KC*SG, KSS (born Leslie Towns Hope; May 29, '\n",
      "               '1903 – July 27, 2003) was an American comedian, vaudevillian, '\n",
      "               'actor, singer, dancer, athlete and author.',\n",
      "               ' With a career spanning nearly 80 years, Hope appeared in more '\n",
      "               'than 70 short and feature films, including a series of \"Road\" '\n",
      "               'movies.',\n",
      "               ' In addition to hosting the Academy Awards show nineteen '\n",
      "               'times, more than any other host, he appeared in many stage '\n",
      "               'productions and television roles, and was the author of 14 '\n",
      "               'books.',\n",
      "               ' The song \"Thanks for the Memory\" is widely regarded as his '\n",
      "               'signature tune.']],\n",
      "             [\"A Miser Brothers' Christmas\",\n",
      "              [\"A Miser Brothers' Christmas is a stop motion spin-off special \"\n",
      "               'based on some of the characters from the 1974 Rankin-Bass '\n",
      "               'special \"The Year Without a Santa Claus\".',\n",
      "               ' Distributed by Warner Bros.',\n",
      "               ' Animation under their Warner Premiere label (the rights '\n",
      "               'holders of the post-1974 Rankin-Bass library) and '\n",
      "               'Toronto-based Cuppa Coffee Studios, the one-hour special '\n",
      "               'premiered on ABC Family on Saturday, December 13, 2008, during '\n",
      "               \"the network's annual The 25 Days of Christmas programming.\",\n",
      "               ' Mickey Rooney and George S. Irving reprised their respective '\n",
      "               'roles as Santa Claus and Heat Miser at ages 88 and 86.',\n",
      "               ' Snow Miser, originally portrayed by Dick Shawn who died in '\n",
      "               '1987, was voiced by Juan Chioran, while Mrs. Claus, voiced by '\n",
      "               'Shirley Booth in the original, was portrayed by Catherine '\n",
      "               'Disher (because Booth had died in 1992).',\n",
      "               ' The movie aimed to emulate the Rankin/Bass animation style.',\n",
      "               ' This is the last Christmas special to feature Mickey Rooney '\n",
      "               'as Santa Claus, as he died in 2014, as well as the last time '\n",
      "               'George Irving voiced Heat Miser, as he died in 2016.']],\n",
      "             ['The Atomic Kid',\n",
      "              ['The Atomic Kid is a 1954 American black-and-white science '\n",
      "               'fiction comedy film from Republic Pictures, produced by '\n",
      "               'Maurice Duke and Mickey Rooney, directed by Leslie H. '\n",
      "               'Martinson, that stars Mickey Rooney and Robert Strauss.']],\n",
      "             [\"Mickey's Helping Hand\",\n",
      "              [\"Mickey's Medicine Man is a 1931 talkie short film in Larry \"\n",
      "               'Darmour\\'s \"Mickey McGuire\" series starring a young Mickey '\n",
      "               'Rooney.',\n",
      "               ' Directed by Jesse Duffy, the two-reel short was released to '\n",
      "               'theaters on December 19, 1931 by RKO Radio Pictures.',\n",
      "               ' It was one of the few Mickey McGuire shorts without Mickey '\n",
      "               'Rooney in the cast.']],\n",
      "             ['Off Limits (1953 film)',\n",
      "              ['Off Limits is a 1953 comedy film directed by George Marshall '\n",
      "               'and starring Bob Hope, Mickey Rooney and Marilyn Maxwell.',\n",
      "               ' Hope plays a manager who enlists in the army to keep an eye '\n",
      "               'on his boxer, who has been drafted.',\n",
      "               ' The picture was written by Hal Kanter and Jack Sher, and was '\n",
      "               'released in the UK as Military Policemen, as the characters '\n",
      "               'played by Hope and Rooney join the military police.']],\n",
      "             ['The Extraordinary Seaman',\n",
      "              ['The Extraordinary Seaman is a 1969 American comedy war film '\n",
      "               'directed by John Frankenheimer and starring David Niven, Faye '\n",
      "               'Dunaway, Alan Alda, Mickey Rooney, and Jack Carter.',\n",
      "               ' Apart from his participation in the documentaries \"That\\'s '\n",
      "               'Entertainment!',\n",
      "               '\" (1974), and \"That\\'s Entertainment!',\n",
      "               ' III\" (1994), the movie is notable for being the last film '\n",
      "               'Mickey Rooney acted in which was released by '\n",
      "               'Metro-Goldwyn-Mayer.']],\n",
      "             ['Mickey Rooney Jr.',\n",
      "              ['Mickey Rooney Jr. (born Joseph Yule III; July 3, 1945) is an '\n",
      "               'American former actor, and the eldest son of the actor Mickey '\n",
      "               'Rooney.',\n",
      "               ' He operates the Rooney Entertainment Group, a movie and TV '\n",
      "               'production company.',\n",
      "               ' He is a born-again Christian, and he has an evangelical '\n",
      "               'ministry in Hemet, California.']],\n",
      "             ['The Adventures of the Black Stallion',\n",
      "              ['The Adventures of The Black Stallion is a television series '\n",
      "               'that starred Mickey Rooney and Richard Ian Cox, as a trainer '\n",
      "               'and a teenaged horse racer and was loosely based on the book '\n",
      "               'series by Walter Farley.',\n",
      "               ' The series originally ran on The Family Channel and YTV from '\n",
      "               'September 15, 1990 to May 16, 1993, before cancellation.',\n",
      "               ' It has since been shown in re-runs throughout the world.',\n",
      "               ' Mickey Rooney is the only original cast member from \"The '\n",
      "               'Black Stallion\" to reprise his role in the show.']]],\n",
      " 'level': 'hard',\n",
      " 'question': 'How long did the career span of the actor who starred with '\n",
      "             'Mickey Rooney and Marilyn Maxwell in Off Limits?',\n",
      " 'supporting_facts': [['Off Limits (1953 film)', 0], ['Bob Hope', 1]],\n",
      " 'type': 'bridge'}\n"
     ]
    }
   ],
   "source": [
    "import json\n",
    "import pprint\n",
    "from loguru import logger as log\n",
    "\n",
    "# 把所有问题的 embedding 存到文件里，节省不必要的 token 浪费\n",
    "\n",
    "# 加载问题\n",
    "all_questions = []\n",
    "question_path = '../../evaluation/hotpotqa/hybrid_test_data_500.json'\n",
    "with open(question_path, 'r', encoding='utf-8') as f:\n",
    "    all_questions = json.load(f)\n",
    "\n",
    "log.info(f'加载了 {len(all_questions)} 个问题')\n",
    "pprint.pprint(all_questions[0])"
   ]
  },
  {
   "cell_type": "code",
   "execution_count": null,
   "id": "38d1d032",
   "metadata": {},
   "outputs": [],
   "source": [
    "# 把问题的 embedding 存入文件\n",
    "question_embedding_path = '../../evaluation/hotpotqa/hybrid_test_data_w_embedding_500.json'\n",
    "\n",
    "for question in all_questions:\n",
    "    embedding = embed_model.embed_query(question['question'])\n",
    "    question['embedding'] = embedding\n",
    "\n",
    "with open(question_embedding_path, 'w', encoding='utf-8') as f:\n",
    "    json.dump(all_questions, f, ensure_ascii=False, indent=4)"
   ]
  },
  {
   "cell_type": "code",
   "execution_count": null,
   "id": "8343f8fd",
   "metadata": {},
   "outputs": [],
   "source": [
    "# 定义判断检索结果是否一致的函数\n",
    "from typing import Tuple, List\n",
    "from langchain_core.documents import Document\n",
    "\n",
    "def is_same_result(\n",
    "        dense_res: List[Tuple[Document, float]],\n",
    "        hybrid_res: List[Tuple[Document, float]]\n",
    ") -> bool:\n",
    "    \"\"\"\n",
    "    比较两个向量数据库进行密集检索的结果是否一致\n",
    "\n",
    "    Args:\n",
    "        dense_res (List[Tuple[Document, float]]): 密集检索的结果\n",
    "        hybrid_res (List[Tuple[Document, float]]): 混合检索的结果\n",
    "\n",
    "    Returns:\n",
    "        bool: 检索结果是否一致\n",
    "    \"\"\"\n",
    "    # 检查两个结果的数量是否一致\n",
    "    if len(dense_res) != len(hybrid_res):\n",
    "        return False\n",
    "\n",
    "    # 检查两个结果里面的具体内容是否一样\n",
    "    for d_res, h_res in zip(dense_res, hybrid_res):\n",
    "        if (\n",
    "            d_res[1] != h_res[1]  # 比较分数\n",
    "            or d_res[0].page_content != h_res[0].page_content  # 比较文档内容\n",
    "        ):\n",
    "            return False\n",
    "\n",
    "    return True"
   ]
  },
  {
   "cell_type": "code",
   "execution_count": null,
   "id": "1f1ad91f",
   "metadata": {},
   "outputs": [],
   "source": [
    "# 定义查询的参数\n",
    "top_k = 10\n",
    "search_params = {\n",
    "    'metric_type': 'L2',\n",
    "    'params': {}\n",
    "}"
   ]
  },
  {
   "cell_type": "code",
   "execution_count": null,
   "id": "1259d5fd",
   "metadata": {},
   "outputs": [
    {
     "name": "stderr",
     "output_type": "stream",
     "text": [
      "  2%|▏         | 8/500 [00:00<00:06, 78.47it/s]"
     ]
    },
    {
     "name": "stdout",
     "output_type": "stream",
     "text": [
      "How long did the career span of the actor who starred with Mickey Rooney and Marilyn Maxwell in Off Limits? 检索结果不一致\n",
      "Who was the running mate of the man about whose candidacy the 2016 book Insane Clown President: Dispatches from the 2016 Circus documents? 检索结果不一致\n",
      "What relationship does Fred Gehrke have to the 23rd overall pick in the 2010 Major League Baseball Draft? 检索结果不一致\n"
     ]
    },
    {
     "name": "stderr",
     "output_type": "stream",
     "text": [
      "  5%|▌         | 27/500 [00:00<00:05, 80.15it/s]"
     ]
    },
    {
     "name": "stdout",
     "output_type": "stream",
     "text": [
      "Spider9 was founded in 2011 by the head of which subsidiary of Wanxiang Group? 检索结果不一致\n",
      "John Stoltenberg is the managing editor of the magazine that focuses on what? 检索结果不一致\n",
      "What kind of song did Alexander Grant produce for Eminem? 检索结果不一致\n",
      "Is Rick Husband Amarillo International Airport or Grand Forks International Airport closer to the town it is near? 检索结果不一致\n",
      "The Greatest Event in Television History aired on the channel that was founded by whom? 检索结果不一致\n",
      "The Lowry Hotel is named after an artist, many of whose drawings and paintings depict what town? 检索结果不一致\n",
      "ICI House is now named after the company that provides what type of item? 检索结果不一致\n",
      "What professionn does Stanley Kwan and Ken Hughes have in common? 检索结果不一致\n",
      "The musician who did \"Khalaara\" was born on what date? 检索结果不一致\n"
     ]
    },
    {
     "name": "stderr",
     "output_type": "stream",
     "text": [
      "  9%|▉         | 45/500 [00:00<00:05, 80.64it/s]"
     ]
    },
    {
     "name": "stdout",
     "output_type": "stream",
     "text": [
      "Who was born first, Nellee Hooper or Baz Luhrmann? 检索结果不一致\n",
      "Who is younger, Keisuke Kuwata or Moya Brennan? 检索结果不一致\n",
      "Which of the starting pitchers for Team USA in the Baseball at the 2000 Summer Olympics was not born August 29, 1977? 检索结果不一致\n",
      "When was the rock band to which Pre-Creedence name was changed active?  检索结果不一致\n",
      "What other teams played in the same division that Chad Clements played in? 检索结果不一致\n",
      "What Cantonese slang term can mean both \"ghost man\" and to refer to Westerners? 检索结果不一致\n",
      "What location is shared by both Great Neck School District and Saddle Rock Elementary School? 检索结果不一致\n",
      "Jim Sharman and Ava DuVernay both share what title concerning their actions leading actors in film or stage? 检索结果不一致\n",
      "When was the younger brother of Ervin Randle born? 检索结果不一致\n",
      "The Waterloo Vase has been used as a garden ornament at whose residence and administrative headquarters? 检索结果不一致\n"
     ]
    },
    {
     "name": "stderr",
     "output_type": "stream",
     "text": [
      " 13%|█▎        | 63/500 [00:00<00:05, 83.08it/s]"
     ]
    },
    {
     "name": "stdout",
     "output_type": "stream",
     "text": [
      "Tony Leung Ka-fai is a four time winner of the award that has been on offer since what month? 检索结果不一致\n",
      "Swingin' Down Yonder is the first full-length, 12-inch album recorded by a singer known by what nickname? 检索结果不一致\n",
      "When is the football club which Stan Spinks played for founded 检索结果不一致\n",
      "Theme Park Inc is a video game that created what sequel in North America in 1999? 检索结果不一致\n",
      "Which artist is a lyricist, Eric Bloom or Otep Shamaya? 检索结果不一致\n",
      "Which German project recorded a song that featured vocals by a duo from Silverdale, England? 检索结果不一致\n",
      "Which actress, who debuted in Friday Night Lights also starred in The River Why? 检索结果不一致\n"
     ]
    },
    {
     "name": "stderr",
     "output_type": "stream",
     "text": [
      " 16%|█▋        | 82/500 [00:01<00:04, 88.14it/s]"
     ]
    },
    {
     "name": "stdout",
     "output_type": "stream",
     "text": [
      "According to the 2011 census what is the population of the city where Royal Wahingdoh F.C. are based ? 检索结果不一致\n",
      "How many total staff (including part-time, flexible, and fixed contract staff) does the broadcaster, who released HyperNormalisation, employ? 检索结果不一致\n",
      "Are Harry Everett Smith and Vladimir Danilevich both from Russia? 检索结果不一致\n"
     ]
    },
    {
     "name": "stderr",
     "output_type": "stream",
     "text": [
      " 18%|█▊        | 91/500 [00:01<00:05, 76.78it/s]"
     ]
    },
    {
     "name": "stdout",
     "output_type": "stream",
     "text": [
      "In what county is the community, to which the character Everett Turner is travelling to in the book \"Away West\", located? 检索结果不一致\n",
      "Which of the people featured on Wall of Fame is the daughter of Bernie Ecclestone? 检索结果不一致\n",
      "The 2004 romantic drama film based on Shake'spears play of the same name was produced by whom? 检索结果不一致\n",
      "Who is older Craig Nicholls or Norman Blake ? 检索结果不一致\n",
      "Eduard Schweizer teaches at a German university with over how many students?  检索结果不一致\n",
      "Who wrote the music for Billy Elliot the Musical and had at least one song on the \"Billboard\" Hot 100 for 31 consecutive years? 检索结果不一致\n",
      "What is the man who Hofstadter's law is named after's profession? 检索结果不一致\n"
     ]
    },
    {
     "name": "stderr",
     "output_type": "stream",
     "text": [
      " 22%|██▏       | 109/500 [00:01<00:04, 80.70it/s]"
     ]
    },
    {
     "name": "stdout",
     "output_type": "stream",
     "text": [
      "Nicholas Medforth-Mills is a grandson to a king who was born on what day and year? 检索结果不一致\n",
      "Whataburger in Richardson Square is loacted in what city and state? 检索结果不一致\n",
      "What other jobs did the actress Olivia Munn from Mortdecai have? 检索结果不一致\n",
      "What type of forum did a former Soviet statesman initiate? 检索结果不一致\n",
      "What aviator participated to the Transatlantic flight organized by the \"heir apparent\" to Italian dictator Benito Mussolini? 检索结果不一致\n",
      "What song was on an American radio network that is owned by Disney Channels Worldwide, Inc. is a song by Senegalese-American R&B and rapper Akon?  检索结果不一致\n"
     ]
    },
    {
     "name": "stderr",
     "output_type": "stream",
     "text": [
      " 25%|██▌       | 127/500 [00:01<00:04, 80.57it/s]"
     ]
    },
    {
     "name": "stdout",
     "output_type": "stream",
     "text": [
      "Jasmin Geljo is known for his role in a 2005 post-apocalyptic horror film written and directed by who? 检索结果不一致\n",
      "The Joggers are a four-piece band whose lead singer is the son of an American chemist who received the highest what? 检索结果不一致\n",
      "In what Chennai location are trade laws different from rest of the country? 检索结果不一致\n",
      "What dance competition television series features host and NFL reporter Erin Andrews? 检索结果不一致\n",
      "John MacGregor, Baron MacGregor of Pulham Market was educated at the University of St Andrews and another university established by what monach? 检索结果不一致\n",
      "Who is the former pentecostal preacher who released the comedy album Leader of the Banned in 1990? 检索结果不一致\n"
     ]
    },
    {
     "name": "stderr",
     "output_type": "stream",
     "text": [
      "                                                 \r"
     ]
    },
    {
     "name": "stdout",
     "output_type": "stream",
     "text": [
      "The 45th president of the United States did what to the Grand Hyatt New York? 检索结果不一致\n",
      "What was the name changed to after Allison J71 was modified to a thrust of 7400 lbf? 检索结果不一致\n",
      "Which American writer wrote both The Ganymede Takeover (1967) and The Man in the High Castle (1962)? 检索结果不一致\n",
      "Who was born first, Erika Jayne or Marco Da Silva 检索结果不一致\n",
      " \"Collateral Damage\" is an episode of the television series \"Millennium\" and features the host of a late night talk show that airs how often? 检索结果不一致\n",
      "What is the name of the popular shopping destination located close to the Taj Mahal and Agra Fort in India? 检索结果不一致\n"
     ]
    },
    {
     "name": "stderr",
     "output_type": "stream",
     "text": [
      " 33%|███▎      | 164/500 [00:02<00:03, 85.72it/s]"
     ]
    },
    {
     "name": "stdout",
     "output_type": "stream",
     "text": [
      "What year was the alphabetically first writer of Fairytale of New York born? 检索结果不一致\n",
      "Panna a netvor is a re-telling of a classic tale by what novelist? 检索结果不一致\n",
      "This British television series was adapted from one of the better-known novels of a 19th-century writer and was first published in what magazine?  检索结果不一致\n",
      "Which President did the American model who posed nude for Penthouse and whose story is recounted in the book 'Their Lives' gain notoriety after revealing a sexual encounter with him? 检索结果不一致\n",
      "Brindisi, the city where Louis-Jean-Nicolas Lejoille died, is located in what country? 检索结果不一致\n",
      "Mummulgum is a stop on the Bruxner Highway before reaching the town on the banks of which river? 检索结果不一致\n"
     ]
    },
    {
     "name": "stderr",
     "output_type": "stream",
     "text": [
      " 36%|███▋      | 182/500 [00:02<00:03, 82.14it/s]"
     ]
    },
    {
     "name": "stdout",
     "output_type": "stream",
     "text": [
      " What species has an extinct subspecies that are classified as Trogloxene and are known from fossils and prehistoric art? 检索结果不一致\n",
      "Are Random House Tower and 888 7th Avenue both used for real estate? 检索结果不一致\n",
      "Which was published first Polarity or The Farming Game? 检索结果不一致\n",
      "No Smoking is a film loosely based upon the short story Quitters, Inc., which of three stories that are connected by the presence of what animal?  检索结果不一致\n",
      "Jacques Mathou starred in Delicatessen, the 1991 French movie in the style of which celebrated American animator? 检索结果不一致\n",
      "What company did Roscoe Channing form with the owner of a leading stable of thoroughbred racehorses? 检索结果不一致\n",
      "Were The Living Desert and What Would Jesus Buy? directed by the same person? 检索结果不一致\n",
      "What was the name of the country ran by the president who maintained the mercenary unit, White Legion?  检索结果不一致\n"
     ]
    },
    {
     "name": "stderr",
     "output_type": "stream",
     "text": [
      " 40%|████      | 200/500 [00:02<00:03, 79.05it/s]"
     ]
    },
    {
     "name": "stdout",
     "output_type": "stream",
     "text": [
      "What National Hockey League (NHL) season saw the Dallas Stars finish the season in a lower position than the Nashville Predators? 检索结果不一致\n",
      "What  profession did Mike Robbie's father practice? 检索结果不一致\n",
      "What was Randy Shughart's rank when he died? 检索结果不一致\n",
      "Are Steve Perry and Dennis Lyxzén both members of the same band ? 检索结果不一致\n",
      "The man, who the award in which \"Summer of the Monkeys\" won, was a spokesman for white sector of America? 检索结果不一致\n"
     ]
    },
    {
     "name": "stderr",
     "output_type": "stream",
     "text": [
      " 43%|████▎     | 217/500 [00:02<00:03, 79.49it/s]"
     ]
    },
    {
     "name": "stdout",
     "output_type": "stream",
     "text": [
      "What was the first comic book written by the writer who had a series developed into a 2010 film with Bruce Willis and Morgan Freeman? 检索结果不一致\n",
      "What film adaptation do both Jerome Bernard and Ira Lewis have in common? 检索结果不一致\n",
      "What Guatemalan Latin pop singer and songwriter  and writer of \"El amor es un fantasma\" shared a stage with Cristian Sáez Valdés Castro? 检索结果不一致\n",
      "What city is the army division that conducted Operation Blue Hearts in the Korean War based out of? 检索结果不一致\n",
      "What type of music were vocalists Billie Joe Armstrong and Frank Iero involved with? 检索结果不一致\n",
      "Are both Coldplay and Pierre Bouvier from the same country? 检索结果不一致\n",
      "The 2006 NCAA Wrestling Championships crowned Jake Rosholt and another athlete known for powerful punches from what hand? 检索结果不一致\n",
      "What do Susan Stafford and Vanna White have in common? 检索结果不一致\n"
     ]
    },
    {
     "name": "stderr",
     "output_type": "stream",
     "text": [
      " 47%|████▋     | 234/500 [00:02<00:03, 78.81it/s]"
     ]
    },
    {
     "name": "stdout",
     "output_type": "stream",
     "text": [
      "Are both American Foxhound and Löwchen types of Foxhounds? 检索结果不一致\n",
      "Who was older, Andrew Preston or James Taylor? 检索结果不一致\n",
      "Kenneth L. Gile is the Chief Operating Officer of an airline with its head office in what airport? 检索结果不一致\n",
      "Eleventh Dream Day and The Shins are both rock bands from where? 检索结果不一致\n",
      "SWX Right Now airs on the station that broadcasts on what channel in Billings, Montana? 检索结果不一致\n",
      "What was the 2016 population of the city on the Bay Fundy which had an office of the Bank of British North America? 检索结果不一致\n",
      "Riom Trial was headed by the French general who reached what distinction? 检索结果不一致\n",
      "Who was from farther west, Max Neufeld or Eduard Zahariev? 检索结果不一致\n",
      "Who designed the theater where the London Philharmonic Orchestra plays?  检索结果不一致\n"
     ]
    },
    {
     "name": "stderr",
     "output_type": "stream",
     "text": [
      " 50%|█████     | 251/500 [00:03<00:03, 78.79it/s]"
     ]
    },
    {
     "name": "stdout",
     "output_type": "stream",
     "text": [
      "Who was one of the first religious sceptics’ best disciple? 检索结果不一致\n",
      "Where does Tiko's Spanish football club hold home games at? 检索结果不一致\n",
      "What production company is owned by the director of \"She Hate Me\"? 检索结果不一致\n",
      "What profession does Leonty Magnitsky and Leonid Khachiyan have in common? 检索结果不一致\n",
      "Who starred in Umm-e-Kulsoom whose mother was Afshan Qureshi? 检索结果不一致\n",
      "What award won by only twelve people has a man who Ted Kooshian has performed with won? 检索结果不一致\n"
     ]
    },
    {
     "name": "stderr",
     "output_type": "stream",
     "text": [
      " 54%|█████▍    | 269/500 [00:03<00:02, 81.85it/s]"
     ]
    },
    {
     "name": "stdout",
     "output_type": "stream",
     "text": [
      "The physicist who is responsible for identifying the Rabi cycle won what award? 检索结果不一致\n",
      "What is one of the most successful retro-clones that is no longer supported by Wizards of the Coast? 检索结果不一致\n",
      "What was the name of the hill that was the seat of an estate uphill Aldbury? 检索结果不一致\n",
      "Are Villa Paletti and Betrayal at House on the Hill both board games? 检索结果不一致\n",
      "What profession was both John Updike and Bret Easton Ellis ? 检索结果不一致\n",
      "Who has held more positions in the film industry, Donald Cammell or Justin David Swibel? 检索结果不一致\n"
     ]
    },
    {
     "name": "stderr",
     "output_type": "stream",
     "text": [
      " 56%|█████▌    | 278/500 [00:03<00:03, 73.74it/s]"
     ]
    },
    {
     "name": "stdout",
     "output_type": "stream",
     "text": [
      "What occupations do Toshi and Emily Haines share? 检索结果不一致\n",
      "In what administrative category are the cities of Beitun, Xinjiang and Wafangdian? 检索结果不一致\n",
      "The city where Alex Shevelev died is the capital of what region? 检索结果不一致\n",
      "What type of profession does Chris Jericho and Gary Barlow have in common? 检索结果不一致\n",
      "What movie is the the Spinning turtle attraction in the worlds 21st largest theme park based off of? 检索结果不一致\n",
      "Who was born first, Marino Girolami or Daniel Myrick? 检索结果不一致\n",
      "The rapper whose debut album was titled \"Thug Misses\" has sold over how many records worldwide? 检索结果不一致\n"
     ]
    },
    {
     "name": "stderr",
     "output_type": "stream",
     "text": [
      " 61%|██████    | 304/500 [00:03<00:02, 80.13it/s]"
     ]
    },
    {
     "name": "stdout",
     "output_type": "stream",
     "text": [
      "When did the third international spin off of Pawn Stars debut? 检索结果不一致\n",
      "Are both Deerhunter and Nine Lashes American Christian rock bands? 检索结果不一致\n",
      "What was the nationality of the person Mountbatten Institute was named after? 检索结果不一致\n",
      "About how many people are employed by the company founded by Denise Coates? 检索结果不一致\n",
      "Inductivism was a scientific method attributed to a man that served in what two capacities? 检索结果不一致\n",
      "What American actress stars in Tainted? 检索结果不一致\n"
     ]
    },
    {
     "name": "stderr",
     "output_type": "stream",
     "text": [
      " 63%|██████▎   | 313/500 [00:03<00:02, 77.35it/s]"
     ]
    },
    {
     "name": "stdout",
     "output_type": "stream",
     "text": [
      "What was the formal name of the building that housed the scene that formed the band Hjertestop? 检索结果不一致\n",
      "What county was Matt Herr raised in? 检索结果不一致\n",
      "The 2017–18 Wigan Athletic F.C. season will be a year in which the team competes in the league cup known as what for sponsorship reasons? 检索结果不一致\n",
      "Ithihasa and the Indian music composer of  \"Chronic Bachelor\", \"Udayananu Tharam\", \"Naran\", \"Puthiya Mukham,\" \"Urumi\", \"Grandmaster\" and \"Bhaskar the Rascal\" are known in what type of films/cinema? 检索结果不一致\n",
      "Which dog is native to France, the Basset Bleu de Gascogne or the Bulldog? 检索结果不一致\n",
      "\"Big for Your Boots\" is a song by an English grime and hip hop artist whose most  successful song to date is what? 检索结果不一致\n",
      "On what date will the comedy film directed by Kevin Tent and starring the Bulgarian-Canadian actress known for portraying the role of Mia Jones be released on video on demand services? 检索结果不一致\n",
      " Willie Geist frequently serves as fill-in anchor on \"Today\" for a tv journalist that was the host of what show from 1980-86? 检索结果不一致\n"
     ]
    },
    {
     "name": "stderr",
     "output_type": "stream",
     "text": [
      " 66%|██████▌   | 330/500 [00:04<00:02, 77.95it/s]"
     ]
    },
    {
     "name": "stdout",
     "output_type": "stream",
     "text": [
      "Are both Stephen R. Donaldson and Michael Moorcock science fiction writers? 检索结果不一致\n",
      "3:10 to Yuma starred what American actor also known for his role as Hoban Washburne? 检索结果不一致\n",
      "what city will host the event in which marie gisele eleme asse won twoo medals in 2017 检索结果不一致\n",
      "Did Big Pig or Blur have more members? 检索结果不一致\n",
      "What type of media does Jeff Rona and Veeram have in common? 检索结果不一致\n",
      "What was the nickname of the English monarch that Petruccio Ubaldini presented one of his books? 检索结果不一致\n"
     ]
    },
    {
     "name": "stderr",
     "output_type": "stream",
     "text": [
      " 69%|██████▉   | 347/500 [00:04<00:01, 79.91it/s]"
     ]
    },
    {
     "name": "stdout",
     "output_type": "stream",
     "text": [
      "Britt Walford played with what musician who is best known for his guitar work in the band Maurice 检索结果不一致\n",
      "Scout Tufankjian and Daron Malakian are both what? 检索结果不一致\n",
      "Name the movie that was cowritten by Paul Rudd and the director of the 2011 British science fiction horror comedy film written and directed by Joe Cornish and starring John Boyega, Nick Frost, Jodie Whittaker and Luke Treadaway. 检索结果不一致\n",
      "In what year did the director of The Lion King win the Tony Awards? 检索结果不一致\n",
      "What railroad in which Challengers were most common was completed in 1915? 检索结果不一致\n",
      "Which genus has more species, Monstera or Cercis? 检索结果不一致\n",
      "What was the father of Kasper Schmeichel voted to be by the IFFHS in 1992? 检索结果不一致\n"
     ]
    },
    {
     "name": "stderr",
     "output_type": "stream",
     "text": [
      " 73%|███████▎  | 366/500 [00:04<00:01, 84.40it/s]"
     ]
    },
    {
     "name": "stdout",
     "output_type": "stream",
     "text": [
      "When was the producer of the film Betrayal born? 检索结果不一致\n",
      "God Is Not Great is by a journalist which due to his actions made him what? 检索结果不一致\n",
      "Which writer of French descent actually lived in France, Maurice Level or John Dufresne? 检索结果不一致\n",
      "Katie sagona is known as what kind of actor because she was a child acting on stage or in motion pictures or television? 检索结果不一致\n"
     ]
    },
    {
     "name": "stderr",
     "output_type": "stream",
     "text": [
      " 79%|███████▉  | 394/500 [00:04<00:01, 83.70it/s]"
     ]
    },
    {
     "name": "stdout",
     "output_type": "stream",
     "text": [
      "Which author has won more Pulitzer Prizes, Thomas Friedman or Henri Bergson? 检索结果不一致\n",
      "What was the island, on which Marinelli Glacier is located, formerly known as? 检索结果不一致\n",
      "Zacarías Ferreira is the uncle of a professional basketball player who played college basketball for who? 检索结果不一致\n",
      "What is the name of the number-one single featuring the winner of Celebrity Apprentice 3? 检索结果不一致\n",
      "What film did Tom Wu appear in that also starred Jason Statham and Ray Liotta?  检索结果不一致\n",
      "Who was born more recent.y,Gunnar Nelson or Florence Welch? 检索结果不一致\n",
      "The person \"Planet Earth Rock and Roll Orchestra\" was the final solo album for died on what date? 检索结果不一致\n",
      "Where is Anticimex's parent company headquartered? 检索结果不一致\n",
      "Which two Swiss attractions were the cause of the \"grand hotels\" in which Jakob Ragaz worked on?  检索结果不一致\n"
     ]
    },
    {
     "name": "stderr",
     "output_type": "stream",
     "text": [
      " 81%|████████  | 403/500 [00:05<00:01, 82.90it/s]"
     ]
    },
    {
     "name": "stdout",
     "output_type": "stream",
     "text": [
      "Were Sound Team and Dead by Sunrise both formed before 2010?  检索结果不一致\n",
      "Father Jean-Pierre Aulneau de le Touche was killed before he could go on an expedition to Mandan, which is located in which state?  检索结果不一致\n",
      "To which competition did the University at Albany, SUNY send a Puerto Rican hurdler and sprinter? 检索结果不一致\n",
      "Which species is the most numerous, Podocarpus or Osmunda?  检索结果不一致\n",
      "Which Canadian rock band released a song called \"Counterparts\" and had a drummer who was inducted into the Modern Drummer Hall of Fame? 检索结果不一致\n",
      "What is the rank of the incumbent that RJ Harris challenged in 2010? 检索结果不一致\n",
      "Which is headquarter farther south, Jet's Pizza or Chuck E. Cheese's? 检索结果不一致\n",
      "Signed with Maybach Music Group in 2011, which artist was featured as a guest in Fire of Zamani? 检索结果不一致\n"
     ]
    },
    {
     "name": "stderr",
     "output_type": "stream",
     "text": [
      " 84%|████████▍ | 421/500 [00:05<00:01, 63.76it/s]"
     ]
    },
    {
     "name": "stdout",
     "output_type": "stream",
     "text": [
      "In what year did Australian-born comedian Peter Helliar write I Love you Too? 检索结果不一致\n",
      "Do The Importance of Being Icelandic and The Five Obstructions belong to different film genres ? 检索结果不一致\n",
      "What big-budget epic film was released the same year as the film that focuses on a series of sudden, unexplained violent bird attacks? 检索结果不一致\n"
     ]
    },
    {
     "name": "stderr",
     "output_type": "stream",
     "text": [
      " 88%|████████▊ | 440/500 [00:05<00:00, 74.28it/s]"
     ]
    },
    {
     "name": "stdout",
     "output_type": "stream",
     "text": [
      " La Yesca Dam was inaugurated by which Mexican politiician and President of the country from 2006-2012? 检索结果不一致\n",
      "Who has more scope of profession, Edward Dmytryk or Otto Preminger? 检索结果不一致\n",
      "From which team did the linebacker for four NFL teams between 1985-1996 get fired by on November 29? 检索结果不一致\n",
      "Codex Escalada shows an apparition to the saint that is a native of which country? 检索结果不一致\n",
      "What album succeeded Kendrick Lamar's album that had the song Money Trees in it? 检索结果不一致\n"
     ]
    },
    {
     "name": "stderr",
     "output_type": "stream",
     "text": [
      " 92%|█████████▏| 460/500 [00:05<00:00, 83.27it/s]"
     ]
    },
    {
     "name": "stdout",
     "output_type": "stream",
     "text": [
      "Why did the CEO of the football team based in Denver, Colorado step down in 2014? 检索结果不一致\n",
      "When did the Disney sitcom in which Genevieve Knight \"G\" Hannelius starred as Avery Jennings end? 检索结果不一致\n",
      "Are the writing from Maurice Level and Alice Hoffman focused on different audieces? 检索结果不一致\n"
     ]
    },
    {
     "name": "stderr",
     "output_type": "stream",
     "text": [
      " 96%|█████████▌| 478/500 [00:05<00:00, 83.63it/s]"
     ]
    },
    {
     "name": "stdout",
     "output_type": "stream",
     "text": [
      "Brad Elterman is a professional photographer who addressed the rock 'n' roll lifestyle of a band that became noted for what? 检索结果不一致\n",
      "Who voices the character that stars in Baseball Bugs? 检索结果不一致\n",
      "Carlo Buccirosso had a role in a movie that premiered at what film festival? 检索结果不一致\n",
      "Which airport is operated by the Coos Country Airport District, Southwest Oregon Regional Airport or Lawton–Fort Sill Regional Airport? 检索结果不一致\n",
      "What man is linked to both Johnny Tremain and Magic Kingdom? 检索结果不一致\n",
      "Why is Bangor Daily News talkin about Sawin Millett? 检索结果不一致\n"
     ]
    },
    {
     "name": "stderr",
     "output_type": "stream",
     "text": [
      " 97%|█████████▋| 487/500 [00:06<00:00, 82.83it/s]"
     ]
    },
    {
     "name": "stdout",
     "output_type": "stream",
     "text": [
      "Heinrich Marschner was a composer who performed in the time frame after one of the first significant composers in what school of work? 检索结果不一致\n",
      "What city does Paul Clyne and David Soares have in common? 检索结果不一致\n",
      "Are both Grapico and Izze artificially flavored soft drinks? 检索结果不一致\n",
      "Who is from farther west, Halestorm or Audioslave? 检索结果不一致\n",
      "The revue Putting It Together was devised by Stephen Sondheim and what actress best known as Miss Marple? 检索结果不一致\n",
      "Who was born in Ireland and has coached the captain of MLS club Colorado Rapids? 检索结果不一致\n",
      "Co-Dependents' Day is an episode of a tv show season which began when? 检索结果不一致\n",
      "What is the estimated population of the city in which the suburb of Beaumont is located ? 检索结果不一致\n"
     ]
    },
    {
     "name": "stderr",
     "output_type": "stream",
     "text": [
      "100%|██████████| 500/500 [00:06<00:00, 80.16it/s]\n",
      "\u001b[32m2025-07-25 09:46:39.684\u001b[0m | \u001b[1mINFO    \u001b[0m | \u001b[36m__main__\u001b[0m:\u001b[36m<module>\u001b[0m:\u001b[36m43\u001b[0m - \u001b[1m检索结果一致的问题数量：314 / 500\u001b[0m\n",
      "\u001b[32m2025-07-25 09:46:39.684\u001b[0m | \u001b[1mINFO    \u001b[0m | \u001b[36m__main__\u001b[0m:\u001b[36m<module>\u001b[0m:\u001b[36m44\u001b[0m - \u001b[1m检索结果不一致的问题数量：186\u001b[0m\n"
     ]
    },
    {
     "name": "stdout",
     "output_type": "stream",
     "text": [
      "From what county is Steven Avery, wrongfully convicted man on which the documentary Making a Murderer is based?  检索结果不一致\n"
     ]
    }
   ],
   "source": [
    "# 在两个向量数据库上使用 client.search 进行检索\n",
    "from tqdm import tqdm\n",
    "\n",
    "diff_res = []\n",
    "same_res_num = 0\n",
    "\n",
    "for question in tqdm(all_questions):\n",
    "    raw_dense_res = dense_vs.client.search(\n",
    "        collection_name='dense_hotpotqa_500',\n",
    "        data=[question['embedding']],\n",
    "        anns_field='vector',  # 在 dense_hotpotqa_500 向量数据库中，密集嵌入的索引为 'vector'\n",
    "        limit=top_k,\n",
    "        search_params=search_params,\n",
    "        output_fields=[\"*\"]\n",
    "    )\n",
    "    dense_res = dense_vs._parse_documents_from_search_results(raw_dense_res)\n",
    "\n",
    "\n",
    "    raw_hybrid_res = hybrid_vs.client.search(\n",
    "        collection_name='hybrid_hotpotqa_500',\n",
    "        data=[question['embedding']],\n",
    "        anns_field='dense',\n",
    "        limit=top_k,\n",
    "        search_params=search_params,\n",
    "        output_fields=[\"*\"]\n",
    "    )\n",
    "    hybrid_res = hybrid_vs._parse_documents_from_search_results(raw_hybrid_res)\n",
    "\n",
    "    # 比较检索结果\n",
    "    if is_same_result(dense_res, hybrid_res):\n",
    "        same_res_num += 1\n",
    "    else:\n",
    "        tmp = {\n",
    "            'question': question['question'],\n",
    "            'dense_res': dense_res,\n",
    "            'hybrid_res': hybrid_res\n",
    "        }\n",
    "        diff_res.append(tmp)\n",
    "\n",
    "        # log.info(f'{question[\"question\"]} 检索结果不一致')\n",
    "        tqdm.write(f'{question[\"question\"]} 检索结果不一致')\n",
    "# 输出结果\n",
    "log.info(f'检索结果一致的问题数量：{same_res_num} / {len(all_questions)}')\n",
    "log.info(f'检索结果不一致的问题数量：{len(diff_res)}')"
   ]
  },
  {
   "cell_type": "code",
   "execution_count": null,
   "id": "5c361788",
   "metadata": {},
   "outputs": [],
   "source": []
  }
 ],
 "metadata": {
  "language_info": {
   "name": "python"
  }
 },
 "nbformat": 4,
 "nbformat_minor": 5
}
